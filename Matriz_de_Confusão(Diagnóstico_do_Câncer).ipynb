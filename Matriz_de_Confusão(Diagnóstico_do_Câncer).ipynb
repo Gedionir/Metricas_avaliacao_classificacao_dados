{
  "nbformat": 4,
  "nbformat_minor": 0,
  "metadata": {
    "colab": {
      "provenance": [],
      "authorship_tag": "ABX9TyMqocMd56CubZN+Y5MD24Un",
      "include_colab_link": true
    },
    "kernelspec": {
      "name": "python3",
      "display_name": "Python 3"
    },
    "language_info": {
      "name": "python"
    }
  },
  "cells": [
    {
      "cell_type": "markdown",
      "metadata": {
        "id": "view-in-github",
        "colab_type": "text"
      },
      "source": [
        "<a href=\"https://colab.research.google.com/github/Gedionir/Metricas_avaliacao_classificacao_dados/blob/main/Matriz_de_Confus%C3%A3o(Diagn%C3%B3stico_do_C%C3%A2ncer).ipynb\" target=\"_parent\"><img src=\"https://colab.research.google.com/assets/colab-badge.svg\" alt=\"Open In Colab\"/></a>"
      ]
    },
    {
      "cell_type": "code",
      "source": [
        "import numpy as np\n",
        "import pandas as pd\n",
        "from sklearn.datasets import load_breast_cancer\n",
        "from sklearn.model_selection import train_test_split\n",
        "from sklearn import svm\n",
        "from sklearn import metrics\n",
        "import matplotlib.pyplot as plt\n",
        "import seaborn as sns\n",
        "import itertools\n",
        "\n",
        "np.random.seed(42)\n",
        "sns.set(rc={\"figure.figsize\": (8, 8)})\n",
        "sns.set_style(\"ticks\")"
      ],
      "metadata": {
        "id": "6VrcmTHl59kP"
      },
      "execution_count": 67,
      "outputs": []
    },
    {
      "cell_type": "code",
      "source": [
        "data = load_breast_cancer()\n",
        "print(data.DESCR[:760])"
      ],
      "metadata": {
        "colab": {
          "base_uri": "https://localhost:8080/"
        },
        "id": "dj21XFbbHEd_",
        "outputId": "b9366815-e6a2-46ee-ffdb-429545186c1b"
      },
      "execution_count": 68,
      "outputs": [
        {
          "output_type": "stream",
          "name": "stdout",
          "text": [
            ".. _breast_cancer_dataset:\n",
            "\n",
            "Breast cancer wisconsin (diagnostic) dataset\n",
            "--------------------------------------------\n",
            "\n",
            "**Data Set Characteristics:**\n",
            "\n",
            "    :Number of Instances: 569\n",
            "\n",
            "    :Number of Attributes: 30 numeric, predictive attributes and the class\n",
            "\n",
            "    :Attribute Information:\n",
            "        - radius (mean of distances from center to points on the perimeter)\n",
            "        - texture (standard deviation of gray-scale values)\n",
            "        - perimeter\n",
            "        - area\n",
            "        - smoothness (local variation in radius lengths)\n",
            "        - compactness (perimeter^2 / area - 1.0)\n",
            "        - concavity (severity of concave portions of the contour)\n",
            "        - concave points (number of concave portions of the contour)\n",
            "        - symmetry\n",
            "        - fractal dimension (\"coastline appr\n"
          ]
        }
      ]
    },
    {
      "cell_type": "code",
      "source": [
        "print(f\"Tipos de cancer são {data.target_names}\")"
      ],
      "metadata": {
        "colab": {
          "base_uri": "https://localhost:8080/"
        },
        "id": "O71sfTE7Jm4r",
        "outputId": "06d142e9-5be3-4b90-d794-2a92d5644563"
      },
      "execution_count": 69,
      "outputs": [
        {
          "output_type": "stream",
          "name": "stdout",
          "text": [
            "Tipos de cancer são ['malignant' 'benign']\n"
          ]
        }
      ]
    },
    {
      "cell_type": "code",
      "source": [
        "X = data.data  # features (características)\n",
        "y = data.target  # labels (rótulos)\n",
        "print(f\"Shape of features is {X.shape}, and shape of target is {y.shape}\")"
      ],
      "metadata": {
        "colab": {
          "base_uri": "https://localhost:8080/"
        },
        "id": "4_mIvwFuKO00",
        "outputId": "510f3992-ccd8-4e8c-e8b8-63cb40e70f90"
      },
      "execution_count": 70,
      "outputs": [
        {
          "output_type": "stream",
          "name": "stdout",
          "text": [
            "Shape of features is (569, 30), and shape of target is (569,)\n"
          ]
        }
      ]
    },
    {
      "cell_type": "code",
      "source": [
        "X_train, X_test, y_train, y_test = train_test_split(X, y, test_size=200, random_state=42, stratify=y)\n",
        "y_train[:10]"
      ],
      "metadata": {
        "colab": {
          "base_uri": "https://localhost:8080/"
        },
        "id": "eRVO7GvrKY5G",
        "outputId": "6328266c-f7e3-459b-c92f-bd513b3583dc"
      },
      "execution_count": 71,
      "outputs": [
        {
          "output_type": "execute_result",
          "data": {
            "text/plain": [
              "array([1, 1, 1, 1, 0, 1, 1, 1, 0, 1])"
            ]
          },
          "metadata": {},
          "execution_count": 71
        }
      ]
    },
    {
      "cell_type": "code",
      "source": [
        "classifier = svm.SVC(kernel='linear', probability=True, verbose=True)\n",
        "classifier.fit(X_train, y_train)"
      ],
      "metadata": {
        "colab": {
          "base_uri": "https://localhost:8080/",
          "height": 93
        },
        "id": "mDTqnnCSKz9c",
        "outputId": "725a2c11-f0d6-42c9-a0cc-41958ce7cfe0"
      },
      "execution_count": 72,
      "outputs": [
        {
          "output_type": "stream",
          "name": "stdout",
          "text": [
            "[LibSVM]"
          ]
        },
        {
          "output_type": "execute_result",
          "data": {
            "text/plain": [
              "SVC(kernel='linear', probability=True, verbose=True)"
            ],
            "text/html": [
              "<style>#sk-container-id-3 {color: black;background-color: white;}#sk-container-id-3 pre{padding: 0;}#sk-container-id-3 div.sk-toggleable {background-color: white;}#sk-container-id-3 label.sk-toggleable__label {cursor: pointer;display: block;width: 100%;margin-bottom: 0;padding: 0.3em;box-sizing: border-box;text-align: center;}#sk-container-id-3 label.sk-toggleable__label-arrow:before {content: \"▸\";float: left;margin-right: 0.25em;color: #696969;}#sk-container-id-3 label.sk-toggleable__label-arrow:hover:before {color: black;}#sk-container-id-3 div.sk-estimator:hover label.sk-toggleable__label-arrow:before {color: black;}#sk-container-id-3 div.sk-toggleable__content {max-height: 0;max-width: 0;overflow: hidden;text-align: left;background-color: #f0f8ff;}#sk-container-id-3 div.sk-toggleable__content pre {margin: 0.2em;color: black;border-radius: 0.25em;background-color: #f0f8ff;}#sk-container-id-3 input.sk-toggleable__control:checked~div.sk-toggleable__content {max-height: 200px;max-width: 100%;overflow: auto;}#sk-container-id-3 input.sk-toggleable__control:checked~label.sk-toggleable__label-arrow:before {content: \"▾\";}#sk-container-id-3 div.sk-estimator input.sk-toggleable__control:checked~label.sk-toggleable__label {background-color: #d4ebff;}#sk-container-id-3 div.sk-label input.sk-toggleable__control:checked~label.sk-toggleable__label {background-color: #d4ebff;}#sk-container-id-3 input.sk-hidden--visually {border: 0;clip: rect(1px 1px 1px 1px);clip: rect(1px, 1px, 1px, 1px);height: 1px;margin: -1px;overflow: hidden;padding: 0;position: absolute;width: 1px;}#sk-container-id-3 div.sk-estimator {font-family: monospace;background-color: #f0f8ff;border: 1px dotted black;border-radius: 0.25em;box-sizing: border-box;margin-bottom: 0.5em;}#sk-container-id-3 div.sk-estimator:hover {background-color: #d4ebff;}#sk-container-id-3 div.sk-parallel-item::after {content: \"\";width: 100%;border-bottom: 1px solid gray;flex-grow: 1;}#sk-container-id-3 div.sk-label:hover label.sk-toggleable__label {background-color: #d4ebff;}#sk-container-id-3 div.sk-serial::before {content: \"\";position: absolute;border-left: 1px solid gray;box-sizing: border-box;top: 0;bottom: 0;left: 50%;z-index: 0;}#sk-container-id-3 div.sk-serial {display: flex;flex-direction: column;align-items: center;background-color: white;padding-right: 0.2em;padding-left: 0.2em;position: relative;}#sk-container-id-3 div.sk-item {position: relative;z-index: 1;}#sk-container-id-3 div.sk-parallel {display: flex;align-items: stretch;justify-content: center;background-color: white;position: relative;}#sk-container-id-3 div.sk-item::before, #sk-container-id-3 div.sk-parallel-item::before {content: \"\";position: absolute;border-left: 1px solid gray;box-sizing: border-box;top: 0;bottom: 0;left: 50%;z-index: -1;}#sk-container-id-3 div.sk-parallel-item {display: flex;flex-direction: column;z-index: 1;position: relative;background-color: white;}#sk-container-id-3 div.sk-parallel-item:first-child::after {align-self: flex-end;width: 50%;}#sk-container-id-3 div.sk-parallel-item:last-child::after {align-self: flex-start;width: 50%;}#sk-container-id-3 div.sk-parallel-item:only-child::after {width: 0;}#sk-container-id-3 div.sk-dashed-wrapped {border: 1px dashed gray;margin: 0 0.4em 0.5em 0.4em;box-sizing: border-box;padding-bottom: 0.4em;background-color: white;}#sk-container-id-3 div.sk-label label {font-family: monospace;font-weight: bold;display: inline-block;line-height: 1.2em;}#sk-container-id-3 div.sk-label-container {text-align: center;}#sk-container-id-3 div.sk-container {/* jupyter's `normalize.less` sets `[hidden] { display: none; }` but bootstrap.min.css set `[hidden] { display: none !important; }` so we also need the `!important` here to be able to override the default hidden behavior on the sphinx rendered scikit-learn.org. See: https://github.com/scikit-learn/scikit-learn/issues/21755 */display: inline-block !important;position: relative;}#sk-container-id-3 div.sk-text-repr-fallback {display: none;}</style><div id=\"sk-container-id-3\" class=\"sk-top-container\"><div class=\"sk-text-repr-fallback\"><pre>SVC(kernel=&#x27;linear&#x27;, probability=True, verbose=True)</pre><b>In a Jupyter environment, please rerun this cell to show the HTML representation or trust the notebook. <br />On GitHub, the HTML representation is unable to render, please try loading this page with nbviewer.org.</b></div><div class=\"sk-container\" hidden><div class=\"sk-item\"><div class=\"sk-estimator sk-toggleable\"><input class=\"sk-toggleable__control sk-hidden--visually\" id=\"sk-estimator-id-3\" type=\"checkbox\" checked><label for=\"sk-estimator-id-3\" class=\"sk-toggleable__label sk-toggleable__label-arrow\">SVC</label><div class=\"sk-toggleable__content\"><pre>SVC(kernel=&#x27;linear&#x27;, probability=True, verbose=True)</pre></div></div></div></div></div>"
            ]
          },
          "metadata": {},
          "execution_count": 72
        }
      ]
    },
    {
      "cell_type": "code",
      "source": [
        "y_preds = classifier.predict(X_test)\n",
        "y_proba = classifier.predict_proba(X_test)"
      ],
      "metadata": {
        "id": "rJp1HcP-G6wx"
      },
      "execution_count": 73,
      "outputs": []
    },
    {
      "cell_type": "code",
      "source": [
        "y_proba = y_proba[:,1].reshape((y_proba.shape[0],))\n",
        "y_proba[:5], y_preds[:5], y_test[:5]"
      ],
      "metadata": {
        "colab": {
          "base_uri": "https://localhost:8080/"
        },
        "id": "dRMWJhotHb1Z",
        "outputId": "06e4fc85-4744-443a-bae9-3a0c4109eb9a"
      },
      "execution_count": 74,
      "outputs": [
        {
          "output_type": "execute_result",
          "data": {
            "text/plain": [
              "(array([0.99697262, 0.08136644, 0.99999168, 0.96809392, 0.99999907]),\n",
              " array([1, 0, 1, 1, 1]),\n",
              " array([1, 0, 1, 1, 1]))"
            ]
          },
          "metadata": {},
          "execution_count": 74
        }
      ]
    },
    {
      "cell_type": "markdown",
      "source": [
        "##MATRIZ DE CONFUSÃO"
      ],
      "metadata": {
        "id": "fpUV0E5QH0tO"
      }
    },
    {
      "cell_type": "code",
      "source": [
        "conf = metrics.confusion_matrix(y_test, y_preds)\n",
        "conf"
      ],
      "metadata": {
        "colab": {
          "base_uri": "https://localhost:8080/"
        },
        "id": "dDRu0P3vHs2n",
        "outputId": "4601d2d1-46f4-47f3-8efe-2b6f8b2b3367"
      },
      "execution_count": 75,
      "outputs": [
        {
          "output_type": "execute_result",
          "data": {
            "text/plain": [
              "array([[ 68,   7],\n",
              "       [  2, 123]])"
            ]
          },
          "metadata": {},
          "execution_count": 75
        }
      ]
    },
    {
      "cell_type": "code",
      "source": [
        "def get_confusion_matrix(y_true, y_pred):\n",
        "    n_classes = len(np.unique(y_true))\n",
        "    conf = np.zeros((n_classes, n_classes))\n",
        "    for actual, pred in zip(y_true, y_pred):\n",
        "        conf[int(actual)][int(pred)] += 1\n",
        "    return conf.astype('int')"
      ],
      "metadata": {
        "id": "SXkMBHEcIsbu"
      },
      "execution_count": 76,
      "outputs": []
    },
    {
      "cell_type": "code",
      "source": [
        "conf = get_confusion_matrix(y_test, y_preds)\n",
        "conf"
      ],
      "metadata": {
        "colab": {
          "base_uri": "https://localhost:8080/"
        },
        "id": "Lru1X8ZrI7nf",
        "outputId": "b5c94548-acc2-4309-85fd-0cd16cf15fe4"
      },
      "execution_count": 77,
      "outputs": [
        {
          "output_type": "execute_result",
          "data": {
            "text/plain": [
              "array([[ 68,   7],\n",
              "       [  2, 123]])"
            ]
          },
          "metadata": {},
          "execution_count": 77
        }
      ]
    },
    {
      "cell_type": "code",
      "source": [
        "classes = [0, 1]\n",
        "plt.imshow(conf, interpolation='nearest', cmap=plt.cm.Oranges)\n",
        "plt.title(\"Confusion Matrix\")\n",
        "plt.colorbar()\n",
        "tick_marks = np.arange(len(classes))\n",
        "plt.xticks(tick_marks, classes)\n",
        "plt.yticks(tick_marks, classes)\n",
        "\n",
        "fmt = 'd'\n",
        "thresh = conf.max() / 2.\n",
        "for i, j in itertools.product(range(conf.shape[0]), range(conf.shape[1])):\n",
        "    plt.text(j, i, format(conf[i, j], fmt),\n",
        "             horizontalalignment=\"center\",\n",
        "             color=\"orange\" if conf[i, j] > thresh else \"black\")\n",
        "\n",
        "plt.tight_layout()\n",
        "plt.ylabel('True label')\n",
        "plt.xlabel('Predicted label')"
      ],
      "metadata": {
        "colab": {
          "base_uri": "https://localhost:8080/",
          "height": 819
        },
        "id": "P8-r-TpSI9zn",
        "outputId": "07afb9aa-db65-4200-dc05-4fc0daec8ae3"
      },
      "execution_count": 78,
      "outputs": [
        {
          "output_type": "execute_result",
          "data": {
            "text/plain": [
              "Text(0.5, 114.24999999999993, 'Predicted label')"
            ]
          },
          "metadata": {},
          "execution_count": 78
        },
        {
          "output_type": "display_data",
          "data": {
            "text/plain": [
              "<Figure size 800x800 with 2 Axes>"
            ],
            "image/png": "[encoded data removed]"
          },
          "metadata": {}
        }
      ]
    },
    {
      "cell_type": "markdown",
      "source": [
        "###Em uma matriz de confusão podemos obter números de 'Verdadeiros Positivos', 'Verdadeiros Negativos', 'Falso Postivos' e 'Falso Negativos'. Agora vamos armazenar esses termos nas variáveis."
      ],
      "metadata": {
        "id": "qf-nBhP1Knsf"
      }
    },
    {
      "cell_type": "code",
      "source": [
        "VP = true_pos = 123\n",
        "VN = true_neg = 68\n",
        "FP = false_pos = 7\n",
        "FN = false_neg = 2\n",
        "N = VP + VN + FP + FN\n",
        "\n",
        "results = {}"
      ],
      "metadata": {
        "id": "K5AZZp4WMbxx"
      },
      "execution_count": 79,
      "outputs": []
    },
    {
      "cell_type": "markdown",
      "source": [
        "###Accuracy (Acurácia).\n",
        "Precisão ou Acurácia:\n",
        "Número de exemplos previstos corretamente / número total de exemplos."
      ],
      "metadata": {
        "id": "ApoaOHAUND15"
      }
    },
    {
      "cell_type": "code",
      "source": [
        "metric = \"ACC\"\n",
        "results[metric] = (VP + VN) / N\n",
        "print(f\"{metric} is {results[metric]: .3f}\")"
      ],
      "metadata": {
        "colab": {
          "base_uri": "https://localhost:8080/"
        },
        "id": "5DA4p7xeNTrH",
        "outputId": "a4470749-d898-4990-cd46-38796e411b54"
      },
      "execution_count": 80,
      "outputs": [
        {
          "output_type": "stream",
          "name": "stdout",
          "text": [
            "ACC is  0.955\n"
          ]
        }
      ]
    },
    {
      "cell_type": "markdown",
      "source": [
        "###Sensitivity (Sensibilidade).\n",
        "Taxa Verdadeiramente Positiva\n",
        "número de amostras reais e previstas como `Positivas` / número total de amostras realmente `Positivas`\n",
        "Também chamado de **Sensibilidade ou Rechamada**."
      ],
      "metadata": {
        "id": "u2S3vnwqQFqY"
      }
    },
    {
      "cell_type": "code",
      "source": [
        "metric = \"TPR\"\n",
        "results[metric] = VP / (VP + VN)\n",
        "print(f\"{metric} is {results[metric]: .3f}\")"
      ],
      "metadata": {
        "colab": {
          "base_uri": "https://localhost:8080/"
        },
        "id": "4AcC_4x3Q6dW",
        "outputId": "a484ca66-5784-4531-e89e-699079dd5449"
      },
      "execution_count": 81,
      "outputs": [
        {
          "output_type": "stream",
          "name": "stdout",
          "text": [
            "TPR is  0.644\n"
          ]
        }
      ]
    },
    {
      "cell_type": "markdown",
      "source": [
        "###Specifity (Especificidade).\n",
        "Taxa Verdadeiramente Negativa\n",
        "número de amostras reais e previstas como `Negativas` / número total de amostras realmente `Negativas`\n",
        "Também chamada de **Especificidade**."
      ],
      "metadata": {
        "id": "XbS81vAJSmo5"
      }
    },
    {
      "cell_type": "code",
      "source": [
        "metric = \"TNR\"\n",
        "results[metric] = VN / (VN + FP)\n",
        "print(f\"{metric} is {results[metric]: .3f}\")"
      ],
      "metadata": {
        "colab": {
          "base_uri": "https://localhost:8080/"
        },
        "id": "gW4KYk4XTB-B",
        "outputId": "fd6e6ea6-b61f-4c60-e9fc-3a516e263dc3"
      },
      "execution_count": 82,
      "outputs": [
        {
          "output_type": "stream",
          "name": "stdout",
          "text": [
            "TNR is  0.907\n"
          ]
        }
      ]
    },
    {
      "cell_type": "markdown",
      "source": [
        "###Precision (Precisão).\n",
        "Valor Preditivo Positivo\n",
        "número de amostras realmente previstas como `Positivas` / número total de amostras previstas como `Positivas`\n",
        "Também chamada de **Precisão**."
      ],
      "metadata": {
        "id": "X824ObMtTx-W"
      }
    },
    {
      "cell_type": "code",
      "source": [
        "metric = \"PPV\"\n",
        "results[metric] = VP / (VP + FP)\n",
        "print(f\"{metric} is {results[metric]: .3f}\")"
      ],
      "metadata": {
        "colab": {
          "base_uri": "https://localhost:8080/"
        },
        "id": "gjBZPWDPUO9B",
        "outputId": "d497cf1b-e2f9-4193-d9a0-c0f8bc0e0841"
      },
      "execution_count": 83,
      "outputs": [
        {
          "output_type": "stream",
          "name": "stdout",
          "text": [
            "PPV is  0.946\n"
          ]
        }
      ]
    },
    {
      "cell_type": "markdown",
      "source": [
        "###F1 Score.\n",
        "\n",
        "![image.png](data:image/png;base64,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)"
      ],
      "metadata": {
        "id": "rJPvhNVdU8uc"
      }
    },
    {
      "cell_type": "code",
      "source": [
        "metric = \"F1\"\n",
        "results[metric] = 2 / (1 / results[\"PPV\"] + 1 / results[\"TPR\"])\n",
        "print(f\"{metric} is {results[metric]: .3f}\")"
      ],
      "metadata": {
        "colab": {
          "base_uri": "https://localhost:8080/"
        },
        "id": "bxvLyDgJVc9m",
        "outputId": "341c489c-925a-4411-de1c-0810164182da"
      },
      "execution_count": 84,
      "outputs": [
        {
          "output_type": "stream",
          "name": "stdout",
          "text": [
            "F1 is  0.766\n"
          ]
        }
      ]
    },
    {
      "cell_type": "markdown",
      "source": [
        "### Curva de ROC (curva característica de operação do receptor)"
      ],
      "metadata": {
        "id": "vwVkHIgGYySz"
      }
    },
    {
      "cell_type": "code",
      "source": [
        "def get_roc_curve(y_test, y_proba, delta=0.1):\n",
        "    \"\"\"\n",
        "    Retorne as taxas de verdadeiros positivos (TPRs), taxas de falsos positivos (FPRs),\n",
        "    e os valores limite, separados por delta.\n",
        "    \"\"\"\n",
        "    thresh = list(np.arange(0, 1, delta)) + [1]\n",
        "    TPRs = []\n",
        "    FPRs = []\n",
        "    y_pred = np.empty(y_proba.shape)\n",
        "    for th in thresh:\n",
        "        y_pred[y_proba < th] = 0\n",
        "        y_pred[y_proba >= th] = 1\n",
        "\n",
        "        (TN, FP), (FN, TP) = get_confusion_matrix(y_test, y_pred)\n",
        "\n",
        "        TPR = TP / (TP + FN)  # sensibilidade\n",
        "        FPR = FP / (FP + TN)  # especificidade\n",
        "        TPRs.append(TPR)\n",
        "        FPRs.append(FPR)\n",
        "    return FPRs, TPRs, thresh"
      ],
      "metadata": {
        "id": "w2gqDa7fXjBW"
      },
      "execution_count": 85,
      "outputs": []
    },
    {
      "cell_type": "code",
      "source": [
        "delta = 0.001\n",
        "FPRs, TPRs, _ = get_roc_curve(y_test, y_proba, delta)"
      ],
      "metadata": {
        "id": "FPQBF1ruYRsF"
      },
      "execution_count": 86,
      "outputs": []
    },
    {
      "metadata": {
        "id": "Igzm5LZDzsNZ",
        "colab": {
          "base_uri": "https://localhost:8080/",
          "height": 727
        },
        "outputId": "249d2a1f-b0a9-43c2-870d-d099b5e44467"
      },
      "cell_type": "code",
      "source": [
        "# Plotando a curva de ROC\n",
        "plt.plot(FPRs, TPRs, color='Purple',\n",
        "         lw=2, label='Curva de ROC')\n",
        "plt.plot([0, 1], [0, 1], color='red', lw=2, linestyle='--', label=\"Mean\")\n",
        "plt.xlim([-0.05, 1.0])\n",
        "plt.ylim([0.0, 1.05])\n",
        "plt.xlabel('Taxa de Falso Positivo')\n",
        "plt.ylabel('Taxa Verdadeiro Positivo')\n",
        "plt.title(f'Curva de ROC (limite delta = {delta})')\n",
        "plt.legend(loc=\"lower right\")\n",
        "plt.show()"
      ],
      "execution_count": 87,
      "outputs": [
        {
          "output_type": "display_data",
          "data": {
            "text/plain": [
              "<Figure size 800x800 with 1 Axes>"
            ],
            "image/png": "[encoded data removed]"
          },
          "metadata": {}
        }
      ]
    }
  ]
}